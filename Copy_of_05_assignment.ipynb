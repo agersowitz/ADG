{
  "nbformat": 4,
  "nbformat_minor": 0,
  "metadata": {
    "colab": {
      "name": "Copy of 05_assignment.ipynb",
      "provenance": [],
      "collapsed_sections": [],
      "include_colab_link": true
    },
    "kernelspec": {
      "name": "python3",
      "display_name": "Python 3"
    }
  },
  "cells": [
    {
      "cell_type": "markdown",
      "metadata": {
        "id": "view-in-github",
        "colab_type": "text"
      },
      "source": [
        "<a href=\"https://colab.research.google.com/github/agersowitz/ADG/blob/master/Copy_of_05_assignment.ipynb\" target=\"_parent\"><img src=\"https://colab.research.google.com/assets/colab-badge.svg\" alt=\"Open In Colab\"/></a>"
      ]
    },
    {
      "cell_type": "markdown",
      "metadata": {
        "id": "rd2QZetSDszc"
      },
      "source": [
        "# Assignment 5\n",
        "\n",
        "# Weeks 8 & 9 - Pandas\n",
        "* In this homework assignment, you will explore and analyze a public dataset of your choosing. Since this assignment is “open-ended” in nature, you are free to expand upon the requirements below. However, you must meet the minimum requirments as indicated in each section. \n",
        "\n",
        "* You must use Pandas as the **primary tool** to process your data.\n",
        "\n",
        "* The preferred method for this analysis is in a .ipynb file. Feel free to use whichever platform of your choosing.  \n",
        " * https://www.youtube.com/watch?v=inN8seMm7UI (Getting started with Colab).\n",
        "\n",
        "* Your data should need some \"work\", or be considered \"dirty\".  You must show your skills in data cleaning/wrangling.\n",
        "\n",
        "### Some data examples:\n",
        "•\thttps://www.data.gov/\n",
        "\n",
        "•\thttps://opendata.cityofnewyork.us/\n",
        "\n",
        "•\thttps://datasetsearch.research.google.com/\n",
        "\n",
        "•\thttps://archive.ics.uci.edu/ml/index.php\n",
        "\n",
        "### Resources:\n",
        "\n",
        "•\thttps://pandas.pydata.org/pandas-docs/stable/getting_started/10min.html \n",
        "\n",
        "•\thttps://pandas.pydata.org/pandas-docs/stable/user_guide/visualization.html\n",
        "\n",
        "\n",
        "### Headings or comments\n",
        "**You are required to make use of comments, or headings for each section.  You must explain what your code is doing, and the results of running your code.**  Act as if you were giving this assignment to your manager - you must include clear and descriptive information for each section.\n",
        "\n",
        "\n"
      ]
    },
    {
      "cell_type": "markdown",
      "metadata": {
        "id": "uW3w6p8rqgxu"
      },
      "source": [
        "# Research Question\n",
        "\n",
        "In this section, please state the question you are trying to solve.  As mentioned, this assignment is opened-ended, so you are free to choose a research question, and corrosponding data sources, of your choosing."
      ]
    },
    {
      "cell_type": "markdown",
      "metadata": {
        "id": "L0PnfMOFzOXz"
      },
      "source": [
        "I will be working with the Motor Vehicle Collisions - Crashes dataset from NYC OpenData (https://data.cityofnewyork.us/Public-Safety/Motor-Vehicle-Collisions-Crashes/h9gi-nx95/data). I have been noticing a lot more oversized pick up truck on the road and have also read that these large, high-clearance vehicles are responsible for an uptick in pedestrian related accidents and fatalities (https://www.outsideonline.com/2411345/suvs-trucks-deadly-cyclist-crashes).\n",
        "\n",
        " I will use this data set to examine if vehicle types within a dense city environment are related to pedestrian injuries and death due to accidents. I will examine possible confounding factors that could contribute to a deadly crash such as zip code, time of night, day of the week, time of day, and time of year (as an aproximation of road conditions). I will be using the variables number_of_pedestrians_killed and number of pedestrians_injured as independent variables and the remaining variables as explanatory variables, with a pirmary focus on vehicle type as a leading explanatory variable."
      ]
    },
    {
      "cell_type": "markdown",
      "metadata": {
        "id": "3bp8cdDxDs2t"
      },
      "source": [
        "______________\n",
        "# Data Exploration\n",
        "Import your dataset into your .ipynb, create dataframes, and explore your data.  \n",
        "\n",
        "Include: \n",
        "\n",
        "* Summary statistics means, medians, quartiles, \n",
        "* Missing value information\n",
        "* Any other relevant information about the dataset.  \n",
        "\n"
      ]
    },
    {
      "cell_type": "code",
      "metadata": {
        "id": "1OJmbafkEhhq"
      },
      "source": [
        "import pandas as pd\n",
        "import urllib\n",
        "import requests\n",
        "import json\n",
        "import numpy as np\n",
        "\n",
        "#import the json dataset and save it in a pandas dataframe\n",
        "\n",
        "u = \"https://data.cityofnewyork.us/resource/h9gi-nx95.json\"\n",
        "with urllib.request.urlopen(u) as url:\n",
        "    mvj = json.loads(url.read().decode())\n",
        "    mvdf = pd.DataFrame(mvj)\n"
      ],
      "execution_count": 364,
      "outputs": []
    },
    {
      "cell_type": "markdown",
      "metadata": {
        "id": "_wXnf6nnh6zD"
      },
      "source": [
        "Change the datatype of some columns so they are compatible with funcitons used in data exploration."
      ]
    },
    {
      "cell_type": "code",
      "metadata": {
        "id": "b0WTKtqozNn1"
      },
      "source": [
        "\n",
        "mvdf['crash_date']=mvdf['crash_date'].astype('datetime64')\n",
        "mvdf['crash_time']=mvdf['crash_time'].astype('datetime64')\n",
        "mvdf['latitude']=mvdf['latitude'].astype('float')\n",
        "mvdf['longitude']=mvdf['longitude'].astype('float')\n",
        "mvdf['number_of_persons_injured']=mvdf['number_of_persons_injured'].astype('int')\n",
        "mvdf['number_of_persons_killed']=mvdf['number_of_persons_killed'].astype('int')\n",
        "mvdf['number_of_pedestrians_injured']=mvdf['number_of_pedestrians_injured'].astype('int')\n",
        "mvdf['number_of_pedestrians_killed']=mvdf['number_of_pedestrians_killed'].astype('int')\n",
        "mvdf['number_of_cyclist_injured']=mvdf['number_of_cyclist_injured'].astype('int')\n",
        "mvdf['number_of_cyclist_killed']=mvdf['number_of_cyclist_killed'].astype('int')\n",
        "mvdf['number_of_motorist_injured']=mvdf['number_of_motorist_injured'].astype('int')\n",
        "mvdf['number_of_motorist_killed']=mvdf['number_of_motorist_killed'].astype('int')\n",
        "\n",
        "\n"
      ],
      "execution_count": 365,
      "outputs": []
    },
    {
      "cell_type": "markdown",
      "metadata": {
        "id": "IQjvQbGDiBTT"
      },
      "source": [
        "Get the timeframe of the dataset. The dataset ranges from December 16, 2017 through October 18, 2020.\n"
      ]
    },
    {
      "cell_type": "code",
      "metadata": {
        "id": "NEgTKFHRiR_w",
        "outputId": "a3efbaa4-a1a4-479c-f615-b93c2d094377",
        "colab": {
          "base_uri": "https://localhost:8080/",
          "height": 68
        }
      },
      "source": [
        "mindate=mvdf['crash_date'].min()\n",
        "maxdate = mvdf['crash_date'].max()\n",
        "\n",
        "print('This data set ranges from')\n",
        "print(mindate)\n",
        "print(maxdate)"
      ],
      "execution_count": 366,
      "outputs": [
        {
          "output_type": "stream",
          "text": [
            "This data set ranges from\n",
            "2018-10-02 00:00:00\n",
            "2020-10-18 00:00:00\n"
          ],
          "name": "stdout"
        }
      ]
    },
    {
      "cell_type": "markdown",
      "metadata": {
        "id": "4QL0HvdViAM1"
      },
      "source": [
        "#Average number of pedestrians killed or injured per 100 crashes. \n",
        "\n",
        "We can see that there are 6.1 Pedestrians injured per 100 crashes and 0 pedestrian deathes per 100 crashes.\n",
        "\n",
        "This tells us it may be a good idea to drop the number of deaths as an indpeendent veriable due to lower frequency \n",
        "\n",
        "We will then lean on injuries as a good barameter for impact on pedestrians."
      ]
    },
    {
      "cell_type": "code",
      "metadata": {
        "id": "IyglMZ0didGy",
        "outputId": "d02e93d7-97cc-4492-b1fa-1be24e93e12e",
        "colab": {
          "base_uri": "https://localhost:8080/",
          "height": 85
        }
      },
      "source": [
        "pi=round(mvdf['number_of_pedestrians_injured'].mean()*100,4)\n",
        "pk = round(mvdf['number_of_pedestrians_killed'].mean()*100,4)\n",
        "\n",
        "\n",
        "\n",
        "print(\"The Average number of pedestrians injured per 100 crashes:\")\n",
        "print(pi)\n",
        "\n",
        "print(\"The Average number of pedestrians killed per 100 crashes:\")\n",
        "print(pk)\n"
      ],
      "execution_count": 367,
      "outputs": [
        {
          "output_type": "stream",
          "text": [
            "The Average number of pedestrians injured per 100 crashes:\n",
            "6.0\n",
            "The Average number of pedestrians killed per 100 crashes:\n",
            "0.0\n"
          ],
          "name": "stdout"
        }
      ]
    },
    {
      "cell_type": "markdown",
      "metadata": {
        "id": "GJZ9ZefehsYX"
      },
      "source": [
        "Again we see that there are very few instances of pedestrian deaths from crashes based on the quartiles being listed at 0 below. The data will have to be altered in the next section to offer a dataset that is more worthy of analysis."
      ]
    },
    {
      "cell_type": "code",
      "metadata": {
        "id": "DKSYDjN2iyfP",
        "outputId": "8d167ed1-c84b-4dbb-acff-90d9dd6d0b03",
        "colab": {
          "base_uri": "https://localhost:8080/",
          "height": 170
        }
      },
      "source": [
        "\n",
        "print(mvdf['number_of_pedestrians_injured'].describe())"
      ],
      "execution_count": 368,
      "outputs": [
        {
          "output_type": "stream",
          "text": [
            "count    1000.000000\n",
            "mean        0.060000\n",
            "std         0.241782\n",
            "min         0.000000\n",
            "25%         0.000000\n",
            "50%         0.000000\n",
            "75%         0.000000\n",
            "max         2.000000\n",
            "Name: number_of_pedestrians_injured, dtype: float64\n"
          ],
          "name": "stdout"
        }
      ]
    },
    {
      "cell_type": "markdown",
      "metadata": {
        "id": "kCSLIafaEGVK"
      },
      "source": [
        "# Data Wrangling\n",
        "Create a subset of your original data and perform the following.  \n",
        "\n",
        "1. Modify multiple column names.\n",
        "\n",
        "2. Look at the structure of your data – are any variables improperly coded? Such as strings or characters? Convert to correct structure if needed.\n",
        "\n",
        "3. Fix missing and invalid values in data.\n",
        "\n",
        "4. Create new columns based on existing columns or calculations.\n",
        "\n",
        "5. Drop column(s) from your dataset.\n",
        "\n",
        "6. Drop a row(s) from your dataset.\n",
        "\n",
        "7. Sort your data based on multiple variables. \n",
        "\n",
        "8. Filter your data based on some condition. \n",
        "\n",
        "9. Convert all the string values to upper or lower cases in one column.\n",
        "\n",
        "10. Check whether numeric values are present in a given column of your dataframe.\n",
        "\n",
        "11. Group your dataset by one column, and get the mean, min, and max values by group. \n",
        "  * Groupby()\n",
        "  * agg() or .apply()\n",
        "\n",
        "12. Group your dataset by two columns and then sort the aggregated results within the groups. \n",
        "\n",
        "**You are free (and should) to add on to these questions.  Please clearly indicate in your assignment your answers to these questions.**"
      ]
    },
    {
      "cell_type": "markdown",
      "metadata": {
        "id": "yNTIrAEMrRd5"
      },
      "source": [
        "#Change column names\n",
        "\n",
        "Some of the columns in the original datasets come with long names that are somewhat cumbersome to retype each time they are needed. Here I will change the names of our indpendent variables to shorter, more mangeable names."
      ]
    },
    {
      "cell_type": "code",
      "metadata": {
        "id": "-7Jj61HurzQN"
      },
      "source": [
        "mvdf.rename(columns={\"number_of_pedestrians_injured\": \"ped_inj\", \"number_of_pedestrians_killed\": \"ped_kill\"},inplace=True)"
      ],
      "execution_count": 369,
      "outputs": []
    },
    {
      "cell_type": "markdown",
      "metadata": {
        "id": "cjDfL0IGsLOy"
      },
      "source": [
        "#Fill in blank values\n",
        "\n",
        "I have already changed the datatypes of numerous fields in the data exploration section so I will move on to fixing invalid data. As a whole this data set does not have much invalid data fields. I notice the zip code an borough fields are often blank when the accident happens on a thruway or bridge. I will modify the blank zip codes to read '00000' to keep with the data sctructure of other zip codes and I will modify the Boroughs that are blank to say \"No Borough - Major Road\"."
      ]
    },
    {
      "cell_type": "code",
      "metadata": {
        "id": "lFz8a4lxtiFP",
        "outputId": "2a972d1f-2057-4ccb-d868-6ba4011feca5",
        "colab": {
          "base_uri": "https://localhost:8080/",
          "height": 221
        }
      },
      "source": [
        "mvdf[\"zip_code\"].fillna(\"00000\", inplace = True)\n",
        "mvdf[\"borough\"].fillna(\"No Borough - Major Road\", inplace = True)\n",
        "mvdf['vehicle_type_code1'].unique"
      ],
      "execution_count": 370,
      "outputs": [
        {
          "output_type": "execute_result",
          "data": {
            "text/plain": [
              "<bound method Series.unique of 0      Station Wagon/Sport Utility Vehicle\n",
              "1      Station Wagon/Sport Utility Vehicle\n",
              "2                                      Bus\n",
              "3                                    Sedan\n",
              "4                                    Sedan\n",
              "                      ...                 \n",
              "995    Station Wagon/Sport Utility Vehicle\n",
              "996                                  Sedan\n",
              "997                          Pick-up Truck\n",
              "998                                  Sedan\n",
              "999    Station Wagon/Sport Utility Vehicle\n",
              "Name: vehicle_type_code1, Length: 1000, dtype: object>"
            ]
          },
          "metadata": {
            "tags": []
          },
          "execution_count": 370
        }
      ]
    },
    {
      "cell_type": "markdown",
      "metadata": {
        "id": "HljKvC1SunZx"
      },
      "source": [
        "#One Hot Encoding and Dropping Rows and Columns\n",
        "\n",
        "In this section I will decipher the vehicle_type_1 field to determine what type of vehicle was involved. I will use pandas get_dummies to create new columns using one hot encoding in order to create dummy variables that will have a 1 if the field contians a substring of a verhicle type and a 0 if it doesn't.\n",
        "\n",
        "Since I am interested in the rate that large civilian vehicles and their sales are impacting public safety I will only be looking at civilian owned cars and will be limiting the dataset to the following list (bike, motorcycle, sedan, convertible, Station Wagon, Sports Utility Vehicle, Pick-Up Truck or Van).\n",
        "\n",
        "Then based on these new columns I will create a vehicle size category (small, medium, large) using the numpy select function. \n",
        "\n",
        "Finally I will remove the contriburing factor vehcile columns and the vehcil type code columns beyond one to clean up the dataset and make it easier to read."
      ]
    },
    {
      "cell_type": "code",
      "metadata": {
        "id": "SdeeoUyYvWnU"
      },
      "source": [
        "# drop rows for non civlian vehicles\n",
        "mvdf= mvdf[mvdf['vehicle_type_code1'].isin(['Bike', 'Morotcycle','Convertible', 'Sedan','Station Wagon/Sport Utility Vehicle','Pick-Up Truck', 'Van'])]\n",
        "\n",
        "#create vehicle size category\n",
        "\n",
        "mvdf['size']='NA'\n",
        "conditions = [ \n",
        "              (mvdf['vehicle_type_code1'].isin(['Bike', 'Morotcycle'])),\n",
        "              (mvdf['vehicle_type_code1'].isin(['Convertible', 'Sedan','Station Wagon/Sport Utility Vehicle'])),\n",
        "              (mvdf['vehicle_type_code1'].isin(['Pick-Up Truck', 'Van']))]\n",
        "\n",
        "values = ['small','medium','large']\n",
        "\n",
        "mvdf['size']= np.select(conditions,values)\n",
        "\n",
        "#create dummy variables for remining vehicle types through one hot encoding\n",
        "\n",
        "d=pd.get_dummies(mvdf['vehicle_type_code1'])\n",
        "\n",
        "\n",
        "#remove unecessary columns\n",
        "\n",
        "drops =['contributing_factor_vehicle_1', 'contributing_factor_vehicle_2',\n",
        "       'vehicle_type_code2','contributing_factor_vehicle_3',\n",
        "       'vehicle_type_code_3', 'contributing_factor_vehicle_4',\n",
        "       'vehicle_type_code_4', 'contributing_factor_vehicle_5']\n",
        "\n",
        "for d in drops:\n",
        "  mvdf = mvdf.drop(d, axis = 'columns')\n"
      ],
      "execution_count": 371,
      "outputs": []
    },
    {
      "cell_type": "markdown",
      "metadata": {
        "id": "bugAvg-tB0bV"
      },
      "source": [
        "#Sort data by Date ascending and number of pedestrians injured descending"
      ]
    },
    {
      "cell_type": "code",
      "metadata": {
        "id": "ZctjWfcmzNB7"
      },
      "source": [
        "\n",
        "mvdf = mvdf.sort_values([\"crash_date\", \"ped_inj\"], ascending = (True, False))\n",
        "\n"
      ],
      "execution_count": 372,
      "outputs": []
    },
    {
      "cell_type": "markdown",
      "metadata": {
        "id": "VlQ1bvhvClxR"
      },
      "source": [
        "#Filter Data and convert to lower and upper case\n",
        "\n",
        "Filter data based on if any pedestrians were injured and if the crash happend in Brooklyn"
      ]
    },
    {
      "cell_type": "code",
      "metadata": {
        "id": "rAP_JRT9C0F9",
        "outputId": "9879c7cb-69ec-4618-8cc5-004cacb87151",
        "colab": {
          "base_uri": "https://localhost:8080/",
          "height": 411
        }
      },
      "source": [
        "mvdf.loc[(mvdf['ped_inj']>0) & (mvdf['borough']=='brooklyn')]\n",
        "\n",
        "# We can see the result above returns no results. If we investigate we see its because the borough column is in all caps\n",
        "# We could search with all caps but to be safe we can alter the search condition to ensure we will capture the filter correctly\n",
        "\n",
        "mvdf.loc[(mvdf['ped_inj']>0) & (mvdf['borough'].str.lower()=='brooklyn')]\n",
        "\n",
        "\n",
        "#If we want our vehicle field to also be all upper case like borough we can user the upper()\n",
        "\n",
        "mvdf['vehicle_type_code1']=mvdf['vehicle_type_code1'].str.upper()\n",
        "mvdf.head()"
      ],
      "execution_count": 373,
      "outputs": [
        {
          "output_type": "execute_result",
          "data": {
            "text/html": [
              "<div>\n",
              "<style scoped>\n",
              "    .dataframe tbody tr th:only-of-type {\n",
              "        vertical-align: middle;\n",
              "    }\n",
              "\n",
              "    .dataframe tbody tr th {\n",
              "        vertical-align: top;\n",
              "    }\n",
              "\n",
              "    .dataframe thead th {\n",
              "        text-align: right;\n",
              "    }\n",
              "</style>\n",
              "<table border=\"1\" class=\"dataframe\">\n",
              "  <thead>\n",
              "    <tr style=\"text-align: right;\">\n",
              "      <th></th>\n",
              "      <th>crash_date</th>\n",
              "      <th>crash_time</th>\n",
              "      <th>borough</th>\n",
              "      <th>zip_code</th>\n",
              "      <th>latitude</th>\n",
              "      <th>longitude</th>\n",
              "      <th>location</th>\n",
              "      <th>on_street_name</th>\n",
              "      <th>off_street_name</th>\n",
              "      <th>number_of_persons_injured</th>\n",
              "      <th>number_of_persons_killed</th>\n",
              "      <th>ped_inj</th>\n",
              "      <th>ped_kill</th>\n",
              "      <th>number_of_cyclist_injured</th>\n",
              "      <th>number_of_cyclist_killed</th>\n",
              "      <th>number_of_motorist_injured</th>\n",
              "      <th>number_of_motorist_killed</th>\n",
              "      <th>collision_id</th>\n",
              "      <th>vehicle_type_code1</th>\n",
              "      <th>cross_street_name</th>\n",
              "      <th>vehicle_type_code_5</th>\n",
              "      <th>size</th>\n",
              "    </tr>\n",
              "  </thead>\n",
              "  <tbody>\n",
              "    <tr>\n",
              "      <th>691</th>\n",
              "      <td>2018-10-02</td>\n",
              "      <td>2020-10-22 10:45:00</td>\n",
              "      <td>QUEENS</td>\n",
              "      <td>11355</td>\n",
              "      <td>40.747948</td>\n",
              "      <td>-73.815710</td>\n",
              "      <td>{'latitude': '40.747948', 'longitude': '-73.81...</td>\n",
              "      <td>NaN</td>\n",
              "      <td>NaN</td>\n",
              "      <td>0</td>\n",
              "      <td>0</td>\n",
              "      <td>0</td>\n",
              "      <td>0</td>\n",
              "      <td>0</td>\n",
              "      <td>0</td>\n",
              "      <td>0</td>\n",
              "      <td>0</td>\n",
              "      <td>3992167</td>\n",
              "      <td>SEDAN</td>\n",
              "      <td>140-09    OAK AVENUE</td>\n",
              "      <td>NaN</td>\n",
              "      <td>medium</td>\n",
              "    </tr>\n",
              "    <tr>\n",
              "      <th>106</th>\n",
              "      <td>2018-10-07</td>\n",
              "      <td>2020-10-22 16:00:00</td>\n",
              "      <td>MANHATTAN</td>\n",
              "      <td>10019</td>\n",
              "      <td>NaN</td>\n",
              "      <td>NaN</td>\n",
              "      <td>NaN</td>\n",
              "      <td>west 59 street</td>\n",
              "      <td>columbus circle</td>\n",
              "      <td>0</td>\n",
              "      <td>0</td>\n",
              "      <td>0</td>\n",
              "      <td>0</td>\n",
              "      <td>0</td>\n",
              "      <td>0</td>\n",
              "      <td>0</td>\n",
              "      <td>0</td>\n",
              "      <td>3995172</td>\n",
              "      <td>SEDAN</td>\n",
              "      <td>NaN</td>\n",
              "      <td>NaN</td>\n",
              "      <td>medium</td>\n",
              "    </tr>\n",
              "    <tr>\n",
              "      <th>47</th>\n",
              "      <td>2018-11-14</td>\n",
              "      <td>2020-10-22 10:00:00</td>\n",
              "      <td>QUEENS</td>\n",
              "      <td>11356</td>\n",
              "      <td>40.781670</td>\n",
              "      <td>-73.829216</td>\n",
              "      <td>{'latitude': '40.78167', 'longitude': '-73.829...</td>\n",
              "      <td>NaN</td>\n",
              "      <td>NaN</td>\n",
              "      <td>0</td>\n",
              "      <td>0</td>\n",
              "      <td>0</td>\n",
              "      <td>0</td>\n",
              "      <td>0</td>\n",
              "      <td>0</td>\n",
              "      <td>0</td>\n",
              "      <td>0</td>\n",
              "      <td>4020665</td>\n",
              "      <td>SEDAN</td>\n",
              "      <td>139-15    20 AVENUE</td>\n",
              "      <td>NaN</td>\n",
              "      <td>medium</td>\n",
              "    </tr>\n",
              "    <tr>\n",
              "      <th>318</th>\n",
              "      <td>2018-11-14</td>\n",
              "      <td>2020-10-22 10:01:00</td>\n",
              "      <td>No Borough - Major Road</td>\n",
              "      <td>00000</td>\n",
              "      <td>NaN</td>\n",
              "      <td>NaN</td>\n",
              "      <td>NaN</td>\n",
              "      <td>VERRAZANO BRIDGE UPPER</td>\n",
              "      <td>NaN</td>\n",
              "      <td>1</td>\n",
              "      <td>0</td>\n",
              "      <td>0</td>\n",
              "      <td>0</td>\n",
              "      <td>0</td>\n",
              "      <td>0</td>\n",
              "      <td>1</td>\n",
              "      <td>0</td>\n",
              "      <td>4021296</td>\n",
              "      <td>SEDAN</td>\n",
              "      <td>NaN</td>\n",
              "      <td>NaN</td>\n",
              "      <td>medium</td>\n",
              "    </tr>\n",
              "    <tr>\n",
              "      <th>83</th>\n",
              "      <td>2018-11-15</td>\n",
              "      <td>2020-10-22 18:00:00</td>\n",
              "      <td>BROOKLYN</td>\n",
              "      <td>11205</td>\n",
              "      <td>40.693226</td>\n",
              "      <td>-73.967850</td>\n",
              "      <td>{'latitude': '40.693226', 'longitude': '-73.96...</td>\n",
              "      <td>WAVERLY AVENUE</td>\n",
              "      <td>MYRTLE AVENUE</td>\n",
              "      <td>1</td>\n",
              "      <td>0</td>\n",
              "      <td>1</td>\n",
              "      <td>0</td>\n",
              "      <td>0</td>\n",
              "      <td>0</td>\n",
              "      <td>0</td>\n",
              "      <td>0</td>\n",
              "      <td>4021604</td>\n",
              "      <td>STATION WAGON/SPORT UTILITY VEHICLE</td>\n",
              "      <td>NaN</td>\n",
              "      <td>NaN</td>\n",
              "      <td>medium</td>\n",
              "    </tr>\n",
              "  </tbody>\n",
              "</table>\n",
              "</div>"
            ],
            "text/plain": [
              "    crash_date          crash_time  ... vehicle_type_code_5    size\n",
              "691 2018-10-02 2020-10-22 10:45:00  ...                 NaN  medium\n",
              "106 2018-10-07 2020-10-22 16:00:00  ...                 NaN  medium\n",
              "47  2018-11-14 2020-10-22 10:00:00  ...                 NaN  medium\n",
              "318 2018-11-14 2020-10-22 10:01:00  ...                 NaN  medium\n",
              "83  2018-11-15 2020-10-22 18:00:00  ...                 NaN  medium\n",
              "\n",
              "[5 rows x 22 columns]"
            ]
          },
          "metadata": {
            "tags": []
          },
          "execution_count": 373
        }
      ]
    },
    {
      "cell_type": "markdown",
      "metadata": {
        "id": "vtz-3vG1GwIm"
      },
      "source": [
        "# Check for Numerics\n",
        "\n",
        "Check to see if the borough fields has any numeric values in it to ensure it is populating correctly.\n",
        "\n",
        "ref: https://stackoverflow.com/questions/54426845/how-to-check-if-a-pandas-dataframe-contains-only-numeric-column-wise/54427157"
      ]
    },
    {
      "cell_type": "code",
      "metadata": {
        "id": "s5V3Tc5uHwiZ",
        "outputId": "1cd84cf8-30b2-452f-e5b6-37b69b98c4f1",
        "colab": {
          "base_uri": "https://localhost:8080/",
          "height": 34
        }
      },
      "source": [
        "pd.to_numeric(mvdf['borough'], errors='coerce').notnull().all()"
      ],
      "execution_count": 374,
      "outputs": [
        {
          "output_type": "execute_result",
          "data": {
            "text/plain": [
              "False"
            ]
          },
          "metadata": {
            "tags": []
          },
          "execution_count": 374
        }
      ]
    },
    {
      "cell_type": "markdown",
      "metadata": {
        "id": "1VMK2DRDIaAV"
      },
      "source": [
        "#Group by one Column\n",
        "\n",
        "Here is where we will begin to analyze whether vehicle size has an impact on pedestrian injuries. We will take the average numner of pedestrian injuries based on the vehicle size category."
      ]
    },
    {
      "cell_type": "code",
      "metadata": {
        "id": "4EisSeamIq8O",
        "outputId": "86ee2796-d3f0-4314-e9ae-2886ff6e70d3",
        "colab": {
          "base_uri": "https://localhost:8080/",
          "height": 102
        }
      },
      "source": [
        "mvdf.groupby(['size'])['ped_inj'].mean()\n",
        "\n",
        "#\n",
        "#(mvdf.groupby(['cluster', 'org'], as_index=False).mean()\n",
        " #           .groupby('cluster')['time'].mean())"
      ],
      "execution_count": 377,
      "outputs": [
        {
          "output_type": "execute_result",
          "data": {
            "text/plain": [
              "size\n",
              "large     0.000000\n",
              "medium    0.050725\n",
              "small     0.111111\n",
              "Name: ped_inj, dtype: float64"
            ]
          },
          "metadata": {
            "tags": []
          },
          "execution_count": 377
        }
      ]
    },
    {
      "cell_type": "markdown",
      "metadata": {
        "id": "r5F8j5S3Jw8j"
      },
      "source": [
        "We can see by the results above that the opposite of our hyposthesis is true and smaller vehicles tend to lead to a higher percentage of pedestrian deaths than larger vehicles. \n",
        "\n",
        "Lets dive deeper and see if vehicle type has a larger role than the arbitrary vehicle size categories established above.\n",
        "\n",
        "\n"
      ]
    },
    {
      "cell_type": "code",
      "metadata": {
        "id": "uaEGcw2DKFxO",
        "outputId": "e1046af3-ae87-40fe-8ad6-280974ef22b9",
        "colab": {
          "base_uri": "https://localhost:8080/",
          "height": 136
        }
      },
      "source": [
        "mvdf.groupby(['vehicle_type_code1'])['ped_inj'].mean()"
      ],
      "execution_count": 378,
      "outputs": [
        {
          "output_type": "execute_result",
          "data": {
            "text/plain": [
              "vehicle_type_code1\n",
              "BIKE                                   0.111111\n",
              "CONVERTIBLE                            0.000000\n",
              "SEDAN                                  0.046122\n",
              "STATION WAGON/SPORT UTILITY VEHICLE    0.057307\n",
              "VAN                                    0.000000\n",
              "Name: ped_inj, dtype: float64"
            ]
          },
          "metadata": {
            "tags": []
          },
          "execution_count": 378
        }
      ]
    },
    {
      "cell_type": "markdown",
      "metadata": {
        "id": "5TmbSuxtLZ6g"
      },
      "source": [
        "# Group by Two Columns\n",
        "\n",
        "Caontrary to our hyposthesis it appears the that larger vehicles aren't associated with more injuries in pedestrians. Lets look and see if any borough is associated with pedestrian injuries as wellas vehicle. WE sort by the borough in albhebetical order and then the vehicle in reverse alphebetical order."
      ]
    },
    {
      "cell_type": "code",
      "metadata": {
        "id": "yuEWWKGJLqmW",
        "outputId": "57eefed0-c032-446b-dc45-e0366d806af6",
        "colab": {
          "base_uri": "https://localhost:8080/",
          "height": 793
        }
      },
      "source": [
        "g=pd.DataFrame(mvdf.groupby(['borough','vehicle_type_code1'])['ped_inj'].mean().sort_index(ascending=True))\n",
        "\n",
        "g.sort_values([\"borough\", \"vehicle_type_code1\"], ascending = (True, False))"
      ],
      "execution_count": 388,
      "outputs": [
        {
          "output_type": "execute_result",
          "data": {
            "text/html": [
              "<div>\n",
              "<style scoped>\n",
              "    .dataframe tbody tr th:only-of-type {\n",
              "        vertical-align: middle;\n",
              "    }\n",
              "\n",
              "    .dataframe tbody tr th {\n",
              "        vertical-align: top;\n",
              "    }\n",
              "\n",
              "    .dataframe thead th {\n",
              "        text-align: right;\n",
              "    }\n",
              "</style>\n",
              "<table border=\"1\" class=\"dataframe\">\n",
              "  <thead>\n",
              "    <tr style=\"text-align: right;\">\n",
              "      <th></th>\n",
              "      <th></th>\n",
              "      <th>ped_inj</th>\n",
              "    </tr>\n",
              "    <tr>\n",
              "      <th>borough</th>\n",
              "      <th>vehicle_type_code1</th>\n",
              "      <th></th>\n",
              "    </tr>\n",
              "  </thead>\n",
              "  <tbody>\n",
              "    <tr>\n",
              "      <th rowspan=\"4\" valign=\"top\">BRONX</th>\n",
              "      <th>VAN</th>\n",
              "      <td>0.000000</td>\n",
              "    </tr>\n",
              "    <tr>\n",
              "      <th>STATION WAGON/SPORT UTILITY VEHICLE</th>\n",
              "      <td>0.103448</td>\n",
              "    </tr>\n",
              "    <tr>\n",
              "      <th>SEDAN</th>\n",
              "      <td>0.075472</td>\n",
              "    </tr>\n",
              "    <tr>\n",
              "      <th>BIKE</th>\n",
              "      <td>0.000000</td>\n",
              "    </tr>\n",
              "    <tr>\n",
              "      <th rowspan=\"4\" valign=\"top\">BROOKLYN</th>\n",
              "      <th>VAN</th>\n",
              "      <td>0.000000</td>\n",
              "    </tr>\n",
              "    <tr>\n",
              "      <th>STATION WAGON/SPORT UTILITY VEHICLE</th>\n",
              "      <td>0.048387</td>\n",
              "    </tr>\n",
              "    <tr>\n",
              "      <th>SEDAN</th>\n",
              "      <td>0.040816</td>\n",
              "    </tr>\n",
              "    <tr>\n",
              "      <th>BIKE</th>\n",
              "      <td>0.333333</td>\n",
              "    </tr>\n",
              "    <tr>\n",
              "      <th rowspan=\"5\" valign=\"top\">MANHATTAN</th>\n",
              "      <th>VAN</th>\n",
              "      <td>0.000000</td>\n",
              "    </tr>\n",
              "    <tr>\n",
              "      <th>STATION WAGON/SPORT UTILITY VEHICLE</th>\n",
              "      <td>0.105263</td>\n",
              "    </tr>\n",
              "    <tr>\n",
              "      <th>SEDAN</th>\n",
              "      <td>0.040816</td>\n",
              "    </tr>\n",
              "    <tr>\n",
              "      <th>CONVERTIBLE</th>\n",
              "      <td>0.000000</td>\n",
              "    </tr>\n",
              "    <tr>\n",
              "      <th>BIKE</th>\n",
              "      <td>0.000000</td>\n",
              "    </tr>\n",
              "    <tr>\n",
              "      <th rowspan=\"5\" valign=\"top\">No Borough - Major Road</th>\n",
              "      <th>VAN</th>\n",
              "      <td>0.000000</td>\n",
              "    </tr>\n",
              "    <tr>\n",
              "      <th>STATION WAGON/SPORT UTILITY VEHICLE</th>\n",
              "      <td>0.029630</td>\n",
              "    </tr>\n",
              "    <tr>\n",
              "      <th>SEDAN</th>\n",
              "      <td>0.049180</td>\n",
              "    </tr>\n",
              "    <tr>\n",
              "      <th>CONVERTIBLE</th>\n",
              "      <td>0.000000</td>\n",
              "    </tr>\n",
              "    <tr>\n",
              "      <th>BIKE</th>\n",
              "      <td>0.000000</td>\n",
              "    </tr>\n",
              "    <tr>\n",
              "      <th rowspan=\"3\" valign=\"top\">QUEENS</th>\n",
              "      <th>STATION WAGON/SPORT UTILITY VEHICLE</th>\n",
              "      <td>0.082192</td>\n",
              "    </tr>\n",
              "    <tr>\n",
              "      <th>SEDAN</th>\n",
              "      <td>0.037037</td>\n",
              "    </tr>\n",
              "    <tr>\n",
              "      <th>BIKE</th>\n",
              "      <td>0.000000</td>\n",
              "    </tr>\n",
              "    <tr>\n",
              "      <th rowspan=\"2\" valign=\"top\">STATEN ISLAND</th>\n",
              "      <th>STATION WAGON/SPORT UTILITY VEHICLE</th>\n",
              "      <td>0.000000</td>\n",
              "    </tr>\n",
              "    <tr>\n",
              "      <th>SEDAN</th>\n",
              "      <td>0.000000</td>\n",
              "    </tr>\n",
              "  </tbody>\n",
              "</table>\n",
              "</div>"
            ],
            "text/plain": [
              "                                                              ped_inj\n",
              "borough                 vehicle_type_code1                           \n",
              "BRONX                   VAN                                  0.000000\n",
              "                        STATION WAGON/SPORT UTILITY VEHICLE  0.103448\n",
              "                        SEDAN                                0.075472\n",
              "                        BIKE                                 0.000000\n",
              "BROOKLYN                VAN                                  0.000000\n",
              "                        STATION WAGON/SPORT UTILITY VEHICLE  0.048387\n",
              "                        SEDAN                                0.040816\n",
              "                        BIKE                                 0.333333\n",
              "MANHATTAN               VAN                                  0.000000\n",
              "                        STATION WAGON/SPORT UTILITY VEHICLE  0.105263\n",
              "                        SEDAN                                0.040816\n",
              "                        CONVERTIBLE                          0.000000\n",
              "                        BIKE                                 0.000000\n",
              "No Borough - Major Road VAN                                  0.000000\n",
              "                        STATION WAGON/SPORT UTILITY VEHICLE  0.029630\n",
              "                        SEDAN                                0.049180\n",
              "                        CONVERTIBLE                          0.000000\n",
              "                        BIKE                                 0.000000\n",
              "QUEENS                  STATION WAGON/SPORT UTILITY VEHICLE  0.082192\n",
              "                        SEDAN                                0.037037\n",
              "                        BIKE                                 0.000000\n",
              "STATEN ISLAND           STATION WAGON/SPORT UTILITY VEHICLE  0.000000\n",
              "                        SEDAN                                0.000000"
            ]
          },
          "metadata": {
            "tags": []
          },
          "execution_count": 388
        }
      ]
    },
    {
      "cell_type": "markdown",
      "metadata": {
        "id": "YoK8G4yhD905"
      },
      "source": [
        "## Data Visualization\n",
        "Use pandas to create a data visualization of your choosing on your dataset.  You may use Pandas or other libraries to complete your visualization (plotly, plotly express, seaborn, etc.)\n",
        "\n",
        "You must include, at the minimum three different plots\n",
        "\n",
        "\n",
        "\n"
      ]
    },
    {
      "cell_type": "code",
      "metadata": {
        "id": "M2jxVzKcEium"
      },
      "source": [
        ""
      ],
      "execution_count": 376,
      "outputs": []
    },
    {
      "cell_type": "code",
      "metadata": {
        "id": "s5CgxhL5zMx4"
      },
      "source": [
        ""
      ],
      "execution_count": 376,
      "outputs": []
    },
    {
      "cell_type": "markdown",
      "metadata": {
        "id": "0qztpr9kD95U"
      },
      "source": [
        "# Conclusions \n",
        "Provide some conclusions or insight gained from looking at your data.\n"
      ]
    },
    {
      "cell_type": "markdown",
      "metadata": {
        "id": "vYHh2qZ8zL7H"
      },
      "source": [
        ""
      ]
    }
  ]
}